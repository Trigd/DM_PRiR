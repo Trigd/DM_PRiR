{
  "nbformat": 4,
  "nbformat_minor": 0,
  "metadata": {
    "colab": {
      "provenance": []
    },
    "kernelspec": {
      "name": "python3",
      "display_name": "Python 3"
    },
    "language_info": {
      "name": "python"
    },
    "gpuClass": "standard",
    "accelerator": "GPU"
  },
  "cells": [
    {
      "cell_type": "markdown",
      "source": [
        "#PRiR lab 13\n",
        "##Daniel Matusiewicz\n",
        "##nr 82655"
      ],
      "metadata": {
        "id": "ZqnVoY-Dys4l"
      }
    },
    {
      "cell_type": "markdown",
      "source": [
        "##Zadanie\n",
        "###Zaimplementuj w Google Colab w bibliotece PyTorch program z wykorzystaniem tensorów, w którym obliczysz pole okręgu na podstawie algorytmu Monte Carlo. Program powinien posiadać 2 wersje -> na CPU i GPU. Przestaw różnice w czasie obliczeń w zależności od rozmiaru problemu (liczby losowanych punktów) dla CPU i GPU w postaci wykresów oraz wniosków."
      ],
      "metadata": {
        "id": "qAZ7qgbsyf5d"
      }
    },
    {
      "cell_type": "markdown",
      "source": [
        "##Kod wraz z omówieniem"
      ],
      "metadata": {
        "id": "PVTmyWI4ym86"
      }
    },
    {
      "cell_type": "markdown",
      "source": [
        "###Wczytanie potrzebnych bibliotek do wykonania zadania. Musimy pamiętać aby włączyć środowisko wersji GPU."
      ],
      "metadata": {
        "id": "fI6fh1-dza52"
      }
    },
    {
      "cell_type": "code",
      "source": [
        "import torch\n",
        "import matplotlib.pyplot as plt\n",
        "import time as timer"
      ],
      "metadata": {
        "id": "JTs8Jc5sWPUK"
      },
      "execution_count": 56,
      "outputs": []
    },
    {
      "cell_type": "markdown",
      "source": [
        "###Poniżej znajduje się funkcja naszego programu z argumentami do podania, czyli liczbą losowanych punktów i sposobu obliczeń (GPU/CPU)"
      ],
      "metadata": {
        "id": "1mOhgIQZz2Yr"
      }
    },
    {
      "cell_type": "code",
      "source": [
        "def monte_carlo(n, device):\n",
        "  # Generuj losowe punkty w zakresie (-1, 1)\n",
        "  x = 2 * torch.rand(n, 2, device=device) - 1\n",
        "\n",
        "  # Oblicz odległość punktów od środka\n",
        "  distance = torch.sqrt(x[:, 0] ** 2 + x[:, 1] ** 2)\n",
        "\n",
        "  # Zlicz liczbę punktów w środku okręgu\n",
        "  in_circle = (distance <= 1).sum().float()\n",
        "\n",
        "  # Oblicz pole okręgu\n",
        "  area = 4 * in_circle / n\n",
        "\n",
        "  return area\n"
      ],
      "metadata": {
        "id": "iE6b4W-JWPX4"
      },
      "execution_count": 57,
      "outputs": []
    },
    {
      "cell_type": "markdown",
      "source": [
        "###Tutaj ustalamy wartości n, wywołujemy nasze funkcje dla CPU oraz GPU i mierzymy czas, w jakim program upora się z funkcją."
      ],
      "metadata": {
        "id": "II881n3L0J74"
      }
    },
    {
      "cell_type": "code",
      "source": [
        "n_values = [10, 100, 1000, 10000, 100000, 1000000, 10000000]\n",
        "times_cpu = []\n",
        "times_gpu = []\n",
        "\n",
        "for n in n_values:\n",
        "  # Obliczenia na CPU\n",
        "  start = timer.time()\n",
        "  area_cpu = monte_carlo(n, torch.device(\"cpu\"))\n",
        "  print(\"CPU - pole dla n =\", n, \" wynosi:\", area_cpu)\n",
        "  end = timer.time()\n",
        "  times_cpu.append(end - start)\n",
        "\n",
        "  # Obliczenia na GPU\n",
        "  start = timer.time()\n",
        "  area_gpu = monte_carlo(n, torch.device(\"cuda\"))\n",
        "  print(\"GPU - pole dla n =\", n, \" wynosi:\", area_gpu)\n",
        "  end = timer.time()\n",
        "  times_gpu.append(end - start)"
      ],
      "metadata": {
        "colab": {
          "base_uri": "https://localhost:8080/"
        },
        "id": "joT1bxbLWPfM",
        "outputId": "8714815f-b465-4e7a-b472-744b1cda6b9a"
      },
      "execution_count": 63,
      "outputs": [
        {
          "output_type": "stream",
          "name": "stdout",
          "text": [
            "CPU - pole dla n = 10  wynosi: tensor(3.6000)\n",
            "GPU - pole dla n = 10  wynosi: tensor(3.2000, device='cuda:0')\n",
            "CPU - pole dla n = 100  wynosi: tensor(3.3200)\n",
            "GPU - pole dla n = 100  wynosi: tensor(3.2800, device='cuda:0')\n",
            "CPU - pole dla n = 1000  wynosi: tensor(3.0800)\n",
            "GPU - pole dla n = 1000  wynosi: tensor(3.1680, device='cuda:0')\n",
            "CPU - pole dla n = 10000  wynosi: tensor(3.1288)\n",
            "GPU - pole dla n = 10000  wynosi: tensor(3.1344, device='cuda:0')\n",
            "CPU - pole dla n = 100000  wynosi: tensor(3.1351)\n",
            "GPU - pole dla n = 100000  wynosi: tensor(3.1352, device='cuda:0')\n",
            "CPU - pole dla n = 1000000  wynosi: tensor(3.1411)\n",
            "GPU - pole dla n = 1000000  wynosi: tensor(3.1400, device='cuda:0')\n",
            "CPU - pole dla n = 10000000  wynosi: tensor(3.1417)\n",
            "GPU - pole dla n = 10000000  wynosi: tensor(3.1416, device='cuda:0')\n"
          ]
        }
      ]
    },
    {
      "cell_type": "markdown",
      "source": [
        "Ostatnim segmentem jest wyświetlenie wyników za pomocą biblioteki myplotlib."
      ],
      "metadata": {
        "id": "-IlnQUY10kQc"
      }
    },
    {
      "cell_type": "code",
      "source": [
        "plt.plot(n_values, times_cpu, label='CPU')\n",
        "plt.plot(n_values, times_gpu, label='GPU')\n",
        "plt.xscale('log')\n",
        "plt.yscale('log')\n",
        "plt.xlabel('Liczba losowanych punktów')\n",
        "plt.ylabel('Czas obliczeń [s]')\n",
        "plt.legend()\n",
        "plt.show()"
      ],
      "metadata": {
        "colab": {
          "base_uri": "https://localhost:8080/",
          "height": 284
        },
        "id": "ZNzSHQMoWqo1",
        "outputId": "fa056fe1-1268-4d68-d813-6c54a7f71108"
      },
      "execution_count": 64,
      "outputs": [
        {
          "output_type": "display_data",
          "data": {
            "text/plain": [
              "<Figure size 432x288 with 1 Axes>"
            ],
            "image/png": "[encoded data removed]"
          },
          "metadata": {
            "needs_background": "light"
          }
        }
      ]
    },
    {
      "cell_type": "markdown",
      "source": [
        "##Wnioski\n",
        "###Jak można zauważyc, przy małej liczbie punktów, korzystniejszą opcją jest wersja CPU. Gdy liczba n szybuje w górę, czas dla GPU praktycznie pozostaje mniej więcej w podobnym miejscu. Czas dla CPU przy wielu próbach odpalenia kodu, od n = 1000 (w większości przypadków) nieustannie się zwiększa."
      ],
      "metadata": {
        "id": "RDHVySjKw34E"
      }
    }
  ]
}