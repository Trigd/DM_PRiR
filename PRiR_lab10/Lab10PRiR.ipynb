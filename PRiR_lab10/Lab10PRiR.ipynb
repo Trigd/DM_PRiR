{
  "nbformat": 4,
  "nbformat_minor": 0,
  "metadata": {
    "colab": {
      "provenance": []
    },
    "kernelspec": {
      "name": "python3",
      "display_name": "Python 3"
    },
    "language_info": {
      "name": "python"
    },
    "accelerator": "GPU",
    "gpuClass": "standard"
  },
  "cells": [
    {
      "cell_type": "code",
      "source": [
        "!nvcc --version"
      ],
      "metadata": {
        "colab": {
          "base_uri": "https://localhost:8080/"
        },
        "id": "nBfAAMBu5RsN",
        "outputId": "29b2fd47-a4f7-4048-e8d4-16cc0e436c7e"
      },
      "execution_count": null,
      "outputs": [
        {
          "output_type": "stream",
          "name": "stdout",
          "text": [
            "nvcc: NVIDIA (R) Cuda compiler driver\n",
            "Copyright (c) 2005-2021 NVIDIA Corporation\n",
            "Built on Sun_Feb_14_21:12:58_PST_2021\n",
            "Cuda compilation tools, release 11.2, V11.2.152\n",
            "Build cuda_11.2.r11.2/compiler.29618528_0\n"
          ]
        }
      ]
    },
    {
      "cell_type": "code",
      "source": [
        "!pip install git+https://github.com/andreinechaev/nvcc4jupyter.git"
      ],
      "metadata": {
        "colab": {
          "base_uri": "https://localhost:8080/"
        },
        "id": "TARiSdYN5SGT",
        "outputId": "ccf065f7-9c7a-4aad-9b8b-ae67a9ec1cef"
      },
      "execution_count": 2,
      "outputs": [
        {
          "output_type": "stream",
          "name": "stdout",
          "text": [
            "Looking in indexes: https://pypi.org/simple, https://us-python.pkg.dev/colab-wheels/public/simple/\n",
            "Collecting git+https://github.com/andreinechaev/nvcc4jupyter.git\n",
            "  Cloning https://github.com/andreinechaev/nvcc4jupyter.git to /tmp/pip-req-build-0smc6_wb\n",
            "  Running command git clone --filter=blob:none --quiet https://github.com/andreinechaev/nvcc4jupyter.git /tmp/pip-req-build-0smc6_wb\n",
            "  Resolved https://github.com/andreinechaev/nvcc4jupyter.git to commit aac710a35f52bb78ab34d2e52517237941399eff\n",
            "  Preparing metadata (setup.py) ... \u001b[?25l\u001b[?25hdone\n",
            "Building wheels for collected packages: NVCCPlugin\n",
            "  Building wheel for NVCCPlugin (setup.py) ... \u001b[?25l\u001b[?25hdone\n",
            "  Created wheel for NVCCPlugin: filename=NVCCPlugin-0.0.2-py3-none-any.whl size=4304 sha256=915b60ea69db5dc8bc2071a8e3c396d9028935b5a5b52cf96cf6f956cb026943\n",
            "  Stored in directory: /tmp/pip-ephem-wheel-cache-1mqlf0nj/wheels/f3/08/cc/e2b5b0e1c92df07dbb50a6f024a68ce090f5e7b2316b41756d\n",
            "Successfully built NVCCPlugin\n",
            "Installing collected packages: NVCCPlugin\n",
            "Successfully installed NVCCPlugin-0.0.2\n"
          ]
        }
      ]
    },
    {
      "cell_type": "code",
      "source": [
        "%load_ext nvcc_plugin"
      ],
      "metadata": {
        "colab": {
          "base_uri": "https://localhost:8080/"
        },
        "id": "nUU2-JTG5SMi",
        "outputId": "637d79cd-c0cd-4ff9-8598-c3df72c165eb"
      },
      "execution_count": 3,
      "outputs": [
        {
          "output_type": "stream",
          "name": "stdout",
          "text": [
            "created output directory at /content/src\n",
            "Out bin /content/result.out\n"
          ]
        }
      ]
    },
    {
      "cell_type": "markdown",
      "source": [
        "###Sekcje w kodzie to:\n",
        "\n",
        "__device__: oznacza, że funkcja myfunction() jest dostępna dla urządzenia CUDA, co oznacza, że może być wykonywana na karcie graficznej.\n",
        "\n",
        "__global__: oznacza, że funkcja integratorKernel() jest funkcją jądra CUDA, co oznacza, że może być wykonywana na wielu rdzeniach karty graficznej jednocześnie.\n",
        "\n",
        "__host__: oznacza, że funkcje cudaIntegrate(), diffclock() i main() są dostępne dla procesora (hosta) i wykonywane są na nim.\n",
        "\n",
        "<<<>>>: oznacza składnię CUDA do określenia liczby bloków i wątków, które mają być wykorzystane przy wywołaniu funkcji jądra CUDA integratorKernel()."
      ],
      "metadata": {
        "id": "FEQqnUlvai4d"
      }
    },
    {
      "cell_type": "markdown",
      "source": [
        "##Prostokątów GPU"
      ],
      "metadata": {
        "id": "CbxKOXve5wru"
      }
    },
    {
      "cell_type": "code",
      "source": [
        "%%cu\n",
        "#include <stdio.h>\n",
        "#include <iostream>\n",
        "using namespace std;\n",
        "__device__ float myfunction(float a)\n",
        "{\n",
        "return 4*a*a+2.0f*a + 3.0f;\n",
        "}\n",
        "// funkcja kernel do obliczenia sumy wykorzystanej w metodzie prostokątów\n",
        "__global__ void integratorKernel(float *a, float x0, float h, int N)\n",
        "{\n",
        "int idx = blockIdx.x * blockDim.x + threadIdx.x;\n",
        "float x = x0 + (float)idx * h;\n",
        "if (idx<N)\n",
        "{\n",
        "a[idx] = myfunction(x) + myfunction(x + h);\n",
        "}\n",
        "}\n",
        "//cudaIntegrate() jest funkcją hosta, która ustawia obliczenia całki po przedziale [x0,xn]\n",
        "__host__ float cudaIntegrate(float x0, float xn, int N)\n",
        "{\n",
        "// obliczenie h (wysokości prostokątów) potrzebnego do wzoru\n",
        "float h = (xn-x0)/N;\n",
        "// zmienna kodu błędu\n",
        "cudaError_t errorcode = cudaSuccess;\n",
        "// wielkość tablic w bitach\n",
        "int size = N*sizeof(float);\n",
        "// przydzielenie tablic dla hosta i urządzenia\n",
        "float* a_h = (float *)malloc(size);\n",
        "float* a_d;\n",
        "if (( errorcode = cudaMalloc((void **)&a_d,size))!= cudaSuccess)\n",
        "{\n",
        "cout << \"cudaMalloc(): \" << cudaGetErrorString(errorcode) << endl;\n",
        "exit(1);\n",
        "}\n",
        "// obliczenia na urządzeniu\n",
        "int block_size = 256;\n",
        "int n_blocks = N/block_size + ( N % block_size == 0 ? 0:1);\n",
        "integratorKernel <<< n_blocks, block_size >>> (a_d, x0, h, N);\n",
        "// skopiowanie wyników z urządzenia na hosta\n",
        "if((errorcode = cudaMemcpy(a_h, a_d, sizeof(float)*N, cudaMemcpyDeviceToHost))!=cudaSuccess)\n",
        "{\n",
        "cout << \"cudaMemcpy(): \" << cudaGetErrorString(errorcode) << endl;\n",
        "exit(1);\n",
        "}\n",
        "// zsumowanie wyników\n",
        "float sum = 0.0;\n",
        "for(int i=0; i<N; i++) sum += a_h[i];\n",
        "sum *= h/2.0;\n",
        "// zwolnienie pamięci\n",
        "free(a_h);\n",
        "cudaFree(a_d);\n",
        "return sum;\n",
        "}\n",
        "// funkcja do pomiaru czasu wykonywania programu w mikro sekundach\n",
        "__host__ double diffclock(clock_t clock1, clock_t clock2)\n",
        "{\n",
        "double diffticks = clock1-clock2;\n",
        "double diffms = diffticks/(CLOCKS_PER_SEC/1000);\n",
        "return diffms;\n",
        "}\n",
        "// funkcja main\n",
        "int main()\n",
        "{\n",
        "clock_t start = clock();\n",
        "float answer = cudaIntegrate(0.0,2.0,1024);\n",
        "clock_t end = clock();\n",
        "cout << \"Wynik to: \" << answer << endl;\n",
        "cout << \"Czas obliczeń: \" << diffclock(end,start);\n",
        "cout << \" mikro sekund\" << endl;\n",
        "return 0;\n",
        "}"
      ],
      "metadata": {
        "colab": {
          "base_uri": "https://localhost:8080/"
        },
        "id": "y5QJv2b9ZjB2",
        "outputId": "3d0334d6-825f-40a9-ce70-8a6807fbde67"
      },
      "execution_count": 12,
      "outputs": [
        {
          "output_type": "stream",
          "name": "stdout",
          "text": [
            "Wynik to: 20.6667\n",
            "Czas obliczeń: 704.834 mikro sekund\n",
            "\n"
          ]
        }
      ]
    },
    {
      "cell_type": "markdown",
      "source": [
        "##Prostokątów CPU"
      ],
      "metadata": {
        "id": "uDSYm0kUjVdJ"
      }
    },
    {
      "cell_type": "code",
      "source": [
        "%%cu\n",
        "#include <stdio.h>\n",
        "#include <iostream>\n",
        "using namespace std;\n",
        "\n",
        "float myfunction(float a)\n",
        "{\n",
        "return 4*a*a+2.0f*a + 3.0f;\n",
        "}\n",
        "\n",
        "// funkcja hosta do obliczenia sumy wykorzystanej w metodzie prostokątów\n",
        "void integratorKernel(float *a, float x0, float h, int N)\n",
        "{\n",
        "    for(int idx = 0; idx < N; idx++)\n",
        "    {\n",
        "        float x = x0 + (float)idx * h;\n",
        "        a[idx] = myfunction(x) + myfunction(x + h);\n",
        "    }\n",
        "}\n",
        "\n",
        "// cudaIntegrate() jest funkcją hosta, która ustawia obliczenia całki po przedziale [x0,xn]\n",
        "float cudaIntegrate(float x0, float xn, int N)\n",
        "{\n",
        "    // obliczenie h (wysokości prostokątów) potrzebnego do wzoru\n",
        "    float h = (xn-x0)/N;\n",
        "    // wielkość tablic w bitach\n",
        "    int size = N*sizeof(float);\n",
        "    // przydzielenie tablic dla hosta \n",
        "    float* a_h = (float *)malloc(size);\n",
        "    // obliczenia na hosta\n",
        "    integratorKernel(a_h, x0, h, N);\n",
        "    // zsumowanie wyników\n",
        "    float sum = 0.0;\n",
        "    for(int i=0; i<N; i++) sum += a_h[i];\n",
        "    sum *= h/2.0;\n",
        "    // zwolnienie pamięci\n",
        "    free(a_h);\n",
        "    return sum;\n",
        "}\n",
        "\n",
        "// funkcja do pomiaru czasu wykonywania programu w mikro sekundach\n",
        "double diffclock(clock_t clock1, clock_t clock2)\n",
        "{\n",
        "double diffticks = clock1-clock2;\n",
        "double diffms = diffticks/(CLOCKS_PER_SEC/1000);\n",
        "return diffms;\n",
        "}\n",
        "\n",
        "int main()\n",
        "{\n",
        "clock_t start = clock();\n",
        "float answer = cudaIntegrate(0.0,2.0,1024);\n",
        "clock_t end = clock();\n",
        "cout << \"Wynik to: \" << answer << endl;\n",
        "cout << \"Czas obliczeń: \" << diffclock(end,start);\n",
        "cout << \" mikro sekund\" << endl;\n",
        "return 0;\n",
        "}"
      ],
      "metadata": {
        "colab": {
          "base_uri": "https://localhost:8080/"
        },
        "id": "Eo1wX9lwgeG2",
        "outputId": "0b46604a-c109-4bdb-9f52-30fe330c8ce6"
      },
      "execution_count": 22,
      "outputs": [
        {
          "output_type": "stream",
          "name": "stdout",
          "text": [
            "Wynik to: 20.6667\n",
            "Czas obliczeń: 0.029 mikro sekund\n",
            "\n"
          ]
        }
      ]
    },
    {
      "cell_type": "markdown",
      "source": [
        "#Trapezów GPU"
      ],
      "metadata": {
        "id": "1Hj6NWsm6Hw4"
      }
    },
    {
      "cell_type": "code",
      "source": [
        "%%cu\n",
        "#include <stdio.h>\n",
        "#include <iostream>\n",
        "using namespace std;\n",
        "\n",
        "__device__ float myfunction(float a)\n",
        "{\n",
        "return 4*a*a+2.0f*a + 3.0f;\n",
        "}\n",
        "\n",
        "\n",
        "// funkcja kernel do obliczenia sumy wykorzystanej w metodzie trapezów\n",
        "__global__ void integratorKernel(float *a, float x0, float h, int N)\n",
        "{\n",
        "int idx = blockIdx.x * blockDim.x + threadIdx.x;\n",
        "float x = x0 + (float)idx * h;\n",
        "if (idx<N)\n",
        "{\n",
        "a[idx] = h * (myfunction(x + h));\n",
        "}\n",
        "}\n",
        "\n",
        "\n",
        "//cudaIntegrate() jest funkcją hosta, która ustawia obliczenia całki po przedziale [x0,xn]\n",
        "__host__ float cudaIntegrate(float x0, float xn, int N)\n",
        "{\n",
        "// obliczenie h (wysokości prostokątów) potrzebnego do wzoru\n",
        "float h = (xn-x0)/N;\n",
        "// zmienna kodu błędu\n",
        "cudaError_t errorcode = cudaSuccess;\n",
        "// wielkość tablic w bitach\n",
        "int size = N*sizeof(float);\n",
        "// przydzielenie tablic dla hosta i urządzenia\n",
        "float* a_h = (float *)malloc(size);\n",
        "float* a_d;\n",
        "if (( errorcode = cudaMalloc((void **)&a_d,size))!= cudaSuccess)\n",
        "{\n",
        "cout << \"cudaMalloc(): \" << cudaGetErrorString(errorcode) << endl;\n",
        "exit(1);\n",
        "}\n",
        "// obliczenia na urządzeniu\n",
        "int block_size = 256;\n",
        "int n_blocks = N/block_size + ( N % block_size == 0 ? 0:1);\n",
        "integratorKernel <<< n_blocks, block_size >>> (a_d, x0, h, N);\n",
        "// skopiowanie wyników z urządzenia na hosta\n",
        "if((errorcode = cudaMemcpy(a_h, a_d, sizeof(float)*N, cudaMemcpyDeviceToHost))!=cudaSuccess)\n",
        "{\n",
        "cout << \"cudaMemcpy(): \" << cudaGetErrorString(errorcode) << endl;\n",
        "exit(1);\n",
        "}\n",
        "// zsumowanie wyników\n",
        "float sum = 0.0;\n",
        "for(int i=0; i<N; i++) sum += a_h[i];\n",
        "// zwolnienie pamięci\n",
        "free(a_h);\n",
        "cudaFree(a_d);\n",
        "return sum;\n",
        "}\n",
        "// funkcja do pomiaru czasu wykonywania programu w mikro sekundach\n",
        "__host__ double diffclock(clock_t clock1, clock_t clock2)\n",
        "{\n",
        "double diffticks = clock1-clock2;\n",
        "double diffms = diffticks/(CLOCKS_PER_SEC/1000);\n",
        "return diffms;\n",
        "}\n",
        "// funkcja main\n",
        "int main()\n",
        "{\n",
        "clock_t start = clock();\n",
        "float answer = cudaIntegrate(0.0,2.0,1024);\n",
        "clock_t end = clock();\n",
        "cout << \"Wynik to: \" << answer << endl;\n",
        "cout << \"Czas obliczeń: \" << diffclock(end,start);\n",
        "cout << \" mikro sekund\" << endl;\n",
        "return 0;\n",
        "}"
      ],
      "metadata": {
        "colab": {
          "base_uri": "https://localhost:8080/"
        },
        "id": "umf7eWdQ6GxX",
        "outputId": "75208024-c83b-4a38-f41c-755f2321d99b"
      },
      "execution_count": 13,
      "outputs": [
        {
          "output_type": "stream",
          "name": "stdout",
          "text": [
            "Wynik to: 20.6862\n",
            "Czas obliczeń: 687.196 mikro sekund\n",
            "\n"
          ]
        }
      ]
    },
    {
      "cell_type": "markdown",
      "source": [
        "##Trapezów CPU"
      ],
      "metadata": {
        "id": "9gbnYRALkYIK"
      }
    },
    {
      "cell_type": "code",
      "source": [
        "%%cu\n",
        "#include <stdio.h>\n",
        "#include <iostream>\n",
        "using namespace std;\n",
        "\n",
        "float myfunction(float a)\n",
        "{\n",
        "return 4*a*a+2.0f*a + 3.0f;\n",
        "}\n",
        "\n",
        "// funkcja hosta do obliczenia sumy wykorzystanej w metodzie prostokątów\n",
        "void integratorKernel(float *a, float x0, float h, int N)\n",
        "{\n",
        "    for(int idx = 0; idx < N; idx++)\n",
        "    {\n",
        "        float x = x0 + (float)idx * h;\n",
        "        a[idx] = h * (myfunction(x + h));\n",
        "    }\n",
        "}\n",
        "\n",
        "// cudaIntegrate() jest funkcją hosta, która ustawia obliczenia całki po przedziale [x0,xn]\n",
        "float cudaIntegrate(float x0, float xn, int N)\n",
        "{\n",
        "    // obliczenie h (wysokości prostokątów) potrzebnego do wzoru\n",
        "    float h = (xn-x0)/N;\n",
        "    // wielkość tablic w bitach\n",
        "    int size = N*sizeof(float);\n",
        "    // przydzielenie tablic dla hosta \n",
        "    float* a_h = (float *)malloc(size);\n",
        "    // obliczenia na hosta\n",
        "    integratorKernel(a_h, x0, h, N);\n",
        "    // zsumowanie wyników\n",
        "    float sum = 0.0;\n",
        "    for(int i=0; i<N; i++) sum += a_h[i];\n",
        "    // zwolnienie pamięci\n",
        "    free(a_h);\n",
        "    return sum;\n",
        "}\n",
        "\n",
        "// funkcja do pomiaru czasu wykonywania programu w mikro sekundach\n",
        "double diffclock(clock_t clock1, clock_t clock2)\n",
        "{\n",
        "double diffticks = clock1-clock2;\n",
        "double diffms = diffticks/(CLOCKS_PER_SEC/1000);\n",
        "return diffms;\n",
        "}\n",
        "\n",
        "int main()\n",
        "{\n",
        "clock_t start = clock();\n",
        "float answer = cudaIntegrate(0.0,2.0,4096);\n",
        "clock_t end = clock();\n",
        "cout << \"Wynik to: \" << answer << endl;\n",
        "cout << \"Czas obliczeń: \" << diffclock(end,start);\n",
        "cout << \" mikro sekund\" << endl;\n",
        "return 0;\n",
        "}"
      ],
      "metadata": {
        "colab": {
          "base_uri": "https://localhost:8080/"
        },
        "id": "sPxbkQP8kaHG",
        "outputId": "1d792d48-bebd-4f22-c000-9f4b6b999c11"
      },
      "execution_count": 25,
      "outputs": [
        {
          "output_type": "stream",
          "name": "stdout",
          "text": [
            "Wynik to: 20.6716\n",
            "Czas obliczeń: 0.084 mikro sekund\n",
            "\n"
          ]
        }
      ]
    },
    {
      "cell_type": "markdown",
      "source": [
        "#Simpsona GPU"
      ],
      "metadata": {
        "id": "qLT9bi1TC2Az"
      }
    },
    {
      "cell_type": "code",
      "source": [
        "%%cu\n",
        "#include <stdio.h>\n",
        "#include <iostream>\n",
        "using namespace std;\n",
        "__device__ float myfunction(float a)\n",
        "{\n",
        "return 4*a*a+2.0f*a + 3.0f;\n",
        "}\n",
        "\n",
        "__device__ void setLimit(int* n_start, int* n_end, int n, int bloki, int blokiwidth)\n",
        "{\n",
        "int threadId = blokiwidth * blockIdx.x + threadIdx.x;\n",
        "int nextThreadId = threadId + 1;\n",
        " \n",
        "int threads = blokiwidth * bloki;\n",
        "\n",
        "*n_start = (threadId * n) / threads;\n",
        "*n_end = (nextThreadId * n) / threads;\n",
        "}\n",
        "\n",
        "__device__ void calculateParabola(int bloki, int rdzenie, \n",
        "  double x0, double xn, int N, float* result)\n",
        "{\n",
        "*result = 0;\n",
        "float h = (xn - x0) / N;\n",
        "int idx_start;\n",
        "int idx_end;\n",
        "setLimit(&idx_start, &idx_end, N-1, bloki, rdzenie);\n",
        "for (int i = idx_start; i < idx_end; i += 2) \n",
        "{\n",
        "*result += (myfunction(x0 + h * (i - 1)) + 4 * myfunction(x0 + h * i) +\n",
        " myfunction(x0 + h * (i + 1))) * h / 3;\n",
        "}\n",
        "}\n",
        "\n",
        "// funkcja wykorzystana do obliczenia sumy w metodzie Simpsona\n",
        "__global__ void mtSimpsona(int bloki, int rdzenie, float* result, float x0, float xn, int N)\n",
        "{\n",
        "float wynik = 0;\n",
        "calculateParabola(bloki, rdzenie, x0, xn, N, &wynik);\n",
        "result[(blockIdx.x * rdzenie + threadIdx.x)] = wynik;\n",
        "}\n",
        "\n",
        "//simpson() jest funkcją hosta, która ustawia obliczenia całki po przedziale [x0,xn]\n",
        "__host__ float simpson(float x0, float xn, int N)\n",
        "{\n",
        "const int bloki = 32;\n",
        "const int rdzenie = 32;\n",
        " \n",
        "float* a_d;\n",
        "float a_h[rdzenie * bloki] = {0};\n",
        " \n",
        "cudaMalloc((void**)&a_d, sizeof(float) * rdzenie * bloki);\n",
        "mtSimpsona << <bloki, rdzenie>> > (bloki, rdzenie, a_d, x0, xn, N);\n",
        "cudaThreadSynchronize();\n",
        "\n",
        "cudaMemcpy(a_h, a_d, sizeof(float) * rdzenie * bloki, cudaMemcpyDeviceToHost);\n",
        " \n",
        "float sum = 0;\n",
        "for(int i=0; i != rdzenie * bloki; ++i) {\n",
        "  sum += a_h[i];\n",
        "}\n",
        "cudaFree(a_d);\n",
        "return sum;\n",
        "}\n",
        "\n",
        "// funkcja do pomiaru czasu wykonywania programu w mikro sekundach\n",
        "__host__ double diffclock(clock_t clock1, clock_t clock2)\n",
        "{\n",
        "double diffticks = clock1-clock2;\n",
        "double diffms = diffticks/(CLOCKS_PER_SEC/1000);\n",
        "return diffms;\n",
        "}\n",
        "// funkcja main\n",
        "int main()\n",
        "{\n",
        "clock_t start = clock();\n",
        "float x0 = 0.0;\n",
        "float xn = 2.0;\n",
        "int N = 4096;\n",
        "float answer = simpson(x0,xn,N);\n",
        "clock_t end = clock();\n",
        "cout << \"Wynik to: \" << answer << endl;\n",
        "cout << \"Czas obliczeń: \" << diffclock(end,start);\n",
        "cout << \" mikro sekund\" << endl;\n",
        "return 0;\n",
        "}\n"
      ],
      "metadata": {
        "id": "GwU3EN92C8E1",
        "colab": {
          "base_uri": "https://localhost:8080/"
        },
        "outputId": "a119b4b6-2d95-4f26-c9bd-4bfd03d14957"
      },
      "execution_count": 29,
      "outputs": [
        {
          "output_type": "stream",
          "name": "stdout",
          "text": [
            "Wynik to: 20.6471\n",
            "Czas obliczeń: 702.783 mikro sekund\n",
            "\n"
          ]
        }
      ]
    },
    {
      "cell_type": "markdown",
      "source": [
        "#Podsumowanie\n",
        "##Wyniki funkcji dla GPU\n",
        "![image.png](data:image/png;base64,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)"
      ],
      "metadata": {
        "id": "7bukT5CYQQ7t"
      }
    },
    {
      "cell_type": "markdown",
      "source": [
        "###N = 4096\n",
        "####Prostokątów: 20.6667, czas obliczeń: 760.962 mikro sekund\n",
        "####Trapezów: 20.6716, czas obliczeń: 770.105 mikro sekund\n",
        "####Simpsona: 20.6471, czas obliczeń: 768.574 mikro sekund\n",
        "###N = 2048\n",
        "####Prostokątów: 20.6667, czas obliczeń: 702.776 mikro sekund\n",
        "####Trapezów: 20.6765, czas obliczeń: 716.758 mikro sekund\n",
        "####Simpsona: 20.6277, czas obliczeń: 698.907 mikro sekund\n",
        "###N = 1024\n",
        "####Prostokątów: 20.6667, czas obliczeń: 704.834 mikro sekund\n",
        "####Trapezów: 20.6862, czas obliczeń: 687.196 mikro sekund\n",
        "####Simpsona: 41.2046, czas obliczeń: 703.315 mikro sekund"
      ],
      "metadata": {
        "id": "N9rtdgVkdElV"
      }
    },
    {
      "cell_type": "markdown",
      "source": [
        "##Wyniki dla CPU\n",
        "###N = 4096\n",
        "####Prostokątów: 20.6667, czas obliczeń: 0.081 mikro sekund\n",
        "####Trapezów: 20.6716, czas obliczeń: 0.084 mikro sekund\n",
        "####Simpsona: \n",
        "###N = 2048\n",
        "####Prostokątów: 20.6667, czas obliczeń: 0.052 mikro sekund\n",
        "####Trapezów: 20.6765, czas obliczeń: 0.045 mikro sekund\n",
        "####Simpsona: \n",
        "###N = 1024\n",
        "####Prostokątów: 20.6667, czas obliczeń: 0.029 mikro sekund\n",
        "####Trapezów: 20.6862, czas obliczeń: 0.028 mikro sekund\n",
        "####Simpsona: "
      ],
      "metadata": {
        "id": "05A0Pw2jbldh"
      }
    },
    {
      "cell_type": "markdown",
      "source": [
        "##Wnioski\n",
        "###Jak widać, nie zawsze GPU okazuje się bardziej optymalnym rozwiązaniem. Dla powyższej funkcji metoda prostokątów okazała się być najskuteczniejszą. Metoda Simpsona wymaga o większej liczby N, aby jej wynik zbliżył się do poprawnego."
      ],
      "metadata": {
        "id": "cBQ8BSSRlQ_4"
      }
    }
  ]
}