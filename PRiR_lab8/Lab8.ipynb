{
  "nbformat": 4,
  "nbformat_minor": 0,
  "metadata": {
    "colab": {
      "provenance": []
    },
    "kernelspec": {
      "name": "python3",
      "display_name": "Python 3"
    },
    "language_info": {
      "name": "python"
    },
    "gpuClass": "standard"
  },
  "cells": [
    {
      "cell_type": "code",
      "execution_count": null,
      "metadata": {
        "colab": {
          "base_uri": "https://localhost:8080/"
        },
        "id": "LBrkCIS3z18D",
        "outputId": "62f5ec87-f323-4f30-bf94-155a60c0aaae"
      },
      "outputs": [
        {
          "output_type": "stream",
          "name": "stdout",
          "text": [
            "nvcc: NVIDIA (R) Cuda compiler driver\n",
            "Copyright (c) 2005-2021 NVIDIA Corporation\n",
            "Built on Sun_Feb_14_21:12:58_PST_2021\n",
            "Cuda compilation tools, release 11.2, V11.2.152\n",
            "Build cuda_11.2.r11.2/compiler.29618528_0\n"
          ]
        }
      ],
      "source": [
        "!nvcc --version"
      ]
    },
    {
      "cell_type": "code",
      "source": [
        "!pip install git+https://github.com/andreinechaev/nvcc4jupyter.git"
      ],
      "metadata": {
        "colab": {
          "base_uri": "https://localhost:8080/"
        },
        "id": "X8RLtA1x0c95",
        "outputId": "82a6fc1f-a659-4310-f569-4ed2741483ee"
      },
      "execution_count": 9,
      "outputs": [
        {
          "output_type": "stream",
          "name": "stdout",
          "text": [
            "Looking in indexes: https://pypi.org/simple, https://us-python.pkg.dev/colab-wheels/public/simple/\n",
            "Collecting git+https://github.com/andreinechaev/nvcc4jupyter.git\n",
            "  Cloning https://github.com/andreinechaev/nvcc4jupyter.git to /tmp/pip-req-build-mswvoxt0\n",
            "  Running command git clone --filter=blob:none --quiet https://github.com/andreinechaev/nvcc4jupyter.git /tmp/pip-req-build-mswvoxt0\n",
            "  Resolved https://github.com/andreinechaev/nvcc4jupyter.git to commit aac710a35f52bb78ab34d2e52517237941399eff\n",
            "  Preparing metadata (setup.py) ... \u001b[?25l\u001b[?25hdone\n"
          ]
        }
      ]
    },
    {
      "cell_type": "code",
      "source": [
        "%load_ext nvcc_plugin"
      ],
      "metadata": {
        "colab": {
          "base_uri": "https://localhost:8080/"
        },
        "id": "NDLM_Bt_01tc",
        "outputId": "220a9fe3-5b2b-4fd3-eff9-e5e09347d21e"
      },
      "execution_count": 10,
      "outputs": [
        {
          "output_type": "stream",
          "name": "stdout",
          "text": [
            "The nvcc_plugin extension is already loaded. To reload it, use:\n",
            "  %reload_ext nvcc_plugin\n"
          ]
        }
      ]
    },
    {
      "cell_type": "code",
      "source": [
        "%%cu\n",
        "#include <stdio.h>\n",
        "#define DIM 1000\n",
        "\n",
        "struct cuComplex{\n",
        "    float r;\n",
        "    float i;\n",
        "    cuComplex(float a, float b):r(a), i(b){}\n",
        "    float magnitude2(void){return r*r+i*i;}\n",
        "    cuComplex operator*(const cuComplex &a) {\n",
        "        return cuComplex(r*a.r-i*a.i,i*a.r+r*a.i);\n",
        "    }\n",
        "    cuComplex operator+(const cuComplex &a){\n",
        "        return cuComplex(r+a.r,i+a.i);\n",
        "    }\n",
        "};\n",
        "\n",
        "int julia(int x, int y){\n",
        "    const float scale = 1.5;\n",
        "    float jx = scale * (float)(DIM/2-x) / (DIM/2);\n",
        "    float jy = scale * (float)(DIM/2-y) / (DIM/2);\n",
        "    cuComplex c(-0.8, 0.156);\n",
        "    cuComplex a(jx, jy);\n",
        "    int i = 0;\n",
        "    for(i = 0; i < 200; i++){\n",
        "        a=a*a+c;\n",
        "        if(a.magnitude2()>1000) return 0;\n",
        "    }\n",
        "    return 1;\n",
        "}\n",
        "\n",
        "void kernel(unsigned char *ptr){\n",
        "    for(int y=0; y<DIM; y++){\n",
        "        for(int x=0; x<DIM; x++){\n",
        "            int offset = x+y*DIM;\n",
        "            int juliaValue = julia(x,y);\n",
        "            ptr[offset*4+0] = 0;\n",
        "            ptr[offset*4+1] = 255 * juliaValue;\n",
        "            ptr[offset*4+2] = 0;\n",
        "        }\n",
        "    }\n",
        "}\n",
        "\n",
        "//Zapis fraktala\n",
        "struct DataBlock{\n",
        "    unsigned char *dev_bitmap;\n",
        "};\n",
        "\n",
        "void wypisz_RGB_fraktal(unsigned char *ptr){\n",
        "    for(int y=0; y<DIM; y++){\n",
        "        for(int x=0; x<DIM; x++){\n",
        "            int offset = x+y*DIM;\n",
        "\n",
        "            printf(\"%d,%d,%d \", ptr[offset*4+0], ptr[offset*4+1], ptr[offset*4+2]);\n",
        "        }\n",
        "    }\n",
        "}\n",
        "\n",
        "void save_to_file(unsigned char *ptr){\n",
        "    FILE *fp=fopen(\"Fraktal_CPU.txt\",\"w\");\n",
        "    fprintf(fp, \"%d %d\\n\", DIM, DIM);\n",
        "    for(int y=0; y<DIM; y++){\n",
        "        for(int x=0; x<DIM; x++){\n",
        "            int offset=x+y*DIM;\n",
        "            fprintf(fp, \"%d,%d,%d \", ptr[offset*4+0], ptr[offset*4+1], ptr[offset*4+2]);\n",
        "        }\n",
        "    }\n",
        "    fclose(fp);\n",
        "}\n",
        "\n",
        "int main(void){\n",
        "cudaEvent_t start, stop;\n",
        "cudaEventCreate(&start);\n",
        "cudaEventCreate(&stop);\n",
        "cudaEventRecord( start, 0 );\n",
        "\n",
        "    DataBlock data;\n",
        "    unsigned char *bitmap = (unsigned char*)malloc(DIM*DIM*4*sizeof(unsigned char));\n",
        "    int image_size = DIM*DIM*4;\n",
        "    kernel(bitmap);\n",
        "\n",
        "//stop pomiaru czasu i obliczenie jego trwania\n",
        "cudaEventRecord(stop,0);\n",
        "cudaEventSynchronize(stop);\n",
        "float elapsedTime;\n",
        "cudaEventElapsedTime(&elapsedTime,start,stop);\n",
        "printf(\"Time to generate: %3.1f ms\\n\",elapsedTime);\n",
        "//wyczyszczenie pamieci\n",
        "cudaEventDestroy(start);\n",
        "cudaEventDestroy(stop);\n",
        "\n",
        "    save_to_file(bitmap);\n",
        "}"
      ],
      "metadata": {
        "colab": {
          "base_uri": "https://localhost:8080/"
        },
        "id": "ItUOreRY2NKK",
        "outputId": "40ff5044-9199-46a1-a19f-864ecbea0668"
      },
      "execution_count": 21,
      "outputs": [
        {
          "output_type": "stream",
          "name": "stdout",
          "text": [
            "Time to generate: 0.0 ms\n",
            "\n"
          ]
        }
      ]
    },
    {
      "cell_type": "code",
      "source": [
        "import re\n",
        "import numpy as np\n",
        "from PIL import Image\n",
        "from pathlib import Path\n",
        "\n",
        "contents = Path('Fraktal_CPU.txt').read_text()\n",
        "\n",
        "h, w, *pixels = re.findall(r'[0-9]+', contents)\n",
        "\n",
        "na = np.array(pixels, dtype=np.uint8).reshape((int(h),int(w),3))\n",
        "\n",
        "Image.fromarray(na).save(\"wynik.png\")"
      ],
      "metadata": {
        "id": "N9rpA7q3kjUB"
      },
      "execution_count": 16,
      "outputs": []
    },
    {
      "cell_type": "code",
      "source": [
        "%%cu\n",
        "#include <stdio.h>\n",
        "#define DIM 1000\n",
        "\n",
        "struct cuComplex {\n",
        "float r;\n",
        "float i;\n",
        "//cuComplex( float a, float b ) : r(a), i(b) {}\n",
        "__device__ cuComplex(float a, float b):r(a), i(b){}\n",
        "__device__ float magnitude2( void ) {\n",
        "return r * r + i * i;\n",
        "}\n",
        "__device__ cuComplex operator*(const cuComplex &a) {\n",
        "return cuComplex(r*a.r - i*a.i, i*a.r + r*a.i);\n",
        "}\n",
        "__device__ cuComplex operator+(const cuComplex &a) {\n",
        "return cuComplex(r+a.r, i+a.i);\n",
        "}\n",
        "};\n",
        "\n",
        "__device__ int julia( int x, int y ) {\n",
        "const float scale = 1.5;\n",
        "float jx = scale * (float)(DIM/2 - x)/(DIM/2);\n",
        "float jy = scale * (float)(DIM/2 - y)/ (DIM/2);\n",
        "cuComplex c(-0.8, 0.156);\n",
        "cuComplex a(jx, jy);\n",
        "int i = 0;\n",
        "for (i =0; i <200; i++) {\n",
        "a = a * a + c;\n",
        "if (a.magnitude2() > 1000)\n",
        "return 0;\n",
        "}\n",
        "return 1;\n",
        "}\n",
        "\n",
        "__global__ void kernel( unsigned char *ptr ) {\n",
        "// Odwzorowanie z blockldx na współrzędne piksela\n",
        "int x = blockIdx.x;\n",
        "int y = blockIdx.y;\n",
        "int offset = x + y * gridDim.x;\n",
        "// Obliczenie wartości dla tego punktu\n",
        "int juliaValue = julia ( x, y );\n",
        "ptr[offset*4 + 0] = 255 * juliaValue;\n",
        "ptr[offset*4 + 1] = 0;\n",
        "ptr[offset*4 +2] = 0;\n",
        "ptr[offset*4 + 3] = 255;\n",
        "}\n",
        "\n",
        "//Zapis fraktala\n",
        "struct DataBlock{\n",
        "    unsigned char *dev_bitmap;\n",
        "};\n",
        "\n",
        "void wypisz_RGB_fraktal(unsigned char *ptr){\n",
        "    for(int y=0; y<DIM; y++){\n",
        "        for(int x=0; x<DIM; x++){\n",
        "            int offset = x+y*DIM;\n",
        "\n",
        "            printf(\"%d, %d, %d \", ptr[offset*4+0], ptr[offset*4+1], ptr[offset*4+2]);\n",
        "        }\n",
        "    }\n",
        "}\n",
        "\n",
        "void save_to_file(unsigned char *ptr){\n",
        "    FILE *fp=fopen(\"Fraktal_GPU.txt\",\"w\");\n",
        "    fprintf(fp, \"%d %d\\n\", DIM, DIM);\n",
        "    for(int y=0; y<DIM; y++){\n",
        "        for(int x=0; x<DIM; x++){\n",
        "            int offset=x+y*DIM;\n",
        "            fprintf(fp, \"%d, %d, %d \", ptr[offset*4+0], ptr[offset*4+1], ptr[offset*4+2]);\n",
        "        }\n",
        "    }\n",
        "    fclose(fp);\n",
        "}\n",
        "\n",
        "int main(void){\n",
        "cudaEvent_t start, stop;\n",
        "cudaEventCreate(&start);\n",
        "cudaEventCreate(&stop);\n",
        "cudaEventRecord( start, 0 );\n",
        "\n",
        "\n",
        "DataBlock data;\n",
        "unsigned char *bitmap = (unsigned char*)malloc(DIM*DIM*4*sizeof(unsigned char));\n",
        "int image_size = DIM*DIM*4;\n",
        "unsigned char *dev_bitmap;\n",
        "cudaMalloc((void**)&dev_bitmap, image_size);\n",
        "data.dev_bitmap=dev_bitmap;\n",
        "dim3 grid(DIM,DIM);\n",
        "kernel<<<grid,1>>>(dev_bitmap);\n",
        "cudaMemcpy(bitmap,dev_bitmap,image_size,cudaMemcpyDeviceToHost);\n",
        "\n",
        "//stop pomiaru czasu i obliczenie jego trwania\n",
        "cudaEventRecord(stop,0);\n",
        "cudaEventSynchronize(stop);\n",
        "float elapsedTime;\n",
        "cudaEventElapsedTime(&elapsedTime,start,stop);\n",
        "printf(\"Time to generate: %3.1f ms\\n\",elapsedTime);\n",
        "//wyczyszczenie pamieci\n",
        "cudaEventDestroy(start);\n",
        "cudaEventDestroy(stop);\n",
        "\n",
        "cudaFree(dev_bitmap);\n",
        "save_to_file (bitmap);\n",
        "}\n"
      ],
      "metadata": {
        "id": "4QnJ4Igt9rBy",
        "colab": {
          "base_uri": "https://localhost:8080/"
        },
        "outputId": "d9adfa62-cef1-427e-8cef-1b1fae4cb380"
      },
      "execution_count": 7,
      "outputs": [
        {
          "output_type": "stream",
          "name": "stdout",
          "text": [
            "Time to generate: 0.0 ms\n",
            "\n"
          ]
        }
      ]
    },
    {
      "cell_type": "code",
      "source": [
        "import re\n",
        "import numpy as np\n",
        "from PIL import Image\n",
        "from pathlib import Path\n",
        "\n",
        "contents = Path('Fraktal_GPU.txt').read_text()\n",
        "\n",
        "h, w, *pixels = re.findall(r'[0-9]+', contents)\n",
        "\n",
        "na = np.array(pixels, dtype=np.uint8).reshape((int(h),int(w),3))\n",
        "\n",
        "Image.fromarray(na).save(\"wynik_GPU.png\")"
      ],
      "metadata": {
        "id": "fPF7vpoNmTkx"
      },
      "execution_count": 16,
      "outputs": []
    }
  ]
}