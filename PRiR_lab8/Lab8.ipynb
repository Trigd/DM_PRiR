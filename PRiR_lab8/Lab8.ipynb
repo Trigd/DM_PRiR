{
  "nbformat": 4,
  "nbformat_minor": 0,
  "metadata": {
    "colab": {
      "provenance": []
    },
    "kernelspec": {
      "name": "python3",
      "display_name": "Python 3"
    },
    "language_info": {
      "name": "python"
    },
    "accelerator": "GPU",
    "gpuClass": "standard"
  },
  "cells": [
    {
      "cell_type": "code",
      "execution_count": null,
      "metadata": {
        "colab": {
          "base_uri": "https://localhost:8080/"
        },
        "id": "LBrkCIS3z18D",
        "outputId": "62f5ec87-f323-4f30-bf94-155a60c0aaae"
      },
      "outputs": [
        {
          "output_type": "stream",
          "name": "stdout",
          "text": [
            "nvcc: NVIDIA (R) Cuda compiler driver\n",
            "Copyright (c) 2005-2021 NVIDIA Corporation\n",
            "Built on Sun_Feb_14_21:12:58_PST_2021\n",
            "Cuda compilation tools, release 11.2, V11.2.152\n",
            "Build cuda_11.2.r11.2/compiler.29618528_0\n"
          ]
        }
      ],
      "source": [
        "!nvcc --version"
      ]
    },
    {
      "cell_type": "code",
      "source": [
        "!pip install git+https://github.com/andreinechaev/nvcc4jupyter.git"
      ],
      "metadata": {
        "colab": {
          "base_uri": "https://localhost:8080/"
        },
        "id": "X8RLtA1x0c95",
        "outputId": "c010067a-35a3-4273-9c78-60d3e5d7c35c"
      },
      "execution_count": 2,
      "outputs": [
        {
          "output_type": "stream",
          "name": "stdout",
          "text": [
            "Looking in indexes: https://pypi.org/simple, https://us-python.pkg.dev/colab-wheels/public/simple/\n",
            "Collecting git+https://github.com/andreinechaev/nvcc4jupyter.git\n",
            "  Cloning https://github.com/andreinechaev/nvcc4jupyter.git to /tmp/pip-req-build-0w8gd9sb\n",
            "  Running command git clone --filter=blob:none --quiet https://github.com/andreinechaev/nvcc4jupyter.git /tmp/pip-req-build-0w8gd9sb\n",
            "  Resolved https://github.com/andreinechaev/nvcc4jupyter.git to commit aac710a35f52bb78ab34d2e52517237941399eff\n",
            "  Preparing metadata (setup.py) ... \u001b[?25l\u001b[?25hdone\n",
            "Building wheels for collected packages: NVCCPlugin\n",
            "  Building wheel for NVCCPlugin (setup.py) ... \u001b[?25l\u001b[?25hdone\n",
            "  Created wheel for NVCCPlugin: filename=NVCCPlugin-0.0.2-py3-none-any.whl size=4304 sha256=c23c89d3e4a438da8391522462db47b8bdd0d2867b458739c01fc2ff71061ead\n",
            "  Stored in directory: /tmp/pip-ephem-wheel-cache-arcu9xeo/wheels/f3/08/cc/e2b5b0e1c92df07dbb50a6f024a68ce090f5e7b2316b41756d\n",
            "Successfully built NVCCPlugin\n",
            "Installing collected packages: NVCCPlugin\n",
            "Successfully installed NVCCPlugin-0.0.2\n"
          ]
        }
      ]
    },
    {
      "cell_type": "code",
      "source": [
        "%load_ext nvcc_plugin"
      ],
      "metadata": {
        "colab": {
          "base_uri": "https://localhost:8080/"
        },
        "id": "NDLM_Bt_01tc",
        "outputId": "8133b679-306c-4d34-87d3-e155040655d0"
      },
      "execution_count": 3,
      "outputs": [
        {
          "output_type": "stream",
          "name": "stdout",
          "text": [
            "created output directory at /content/src\n",
            "Out bin /content/result.out\n"
          ]
        }
      ]
    },
    {
      "cell_type": "markdown",
      "source": [
        "#Wersja CPU"
      ],
      "metadata": {
        "id": "p4TcsxgsViGn"
      }
    },
    {
      "cell_type": "code",
      "source": [
        "%%cu\n",
        "#include <stdio.h>\n",
        "#define DIM 1000\n",
        "\n",
        "struct cuComplex{\n",
        "    float r;\n",
        "    float i;\n",
        "    cuComplex(float a,float b):r(a),i(b){}\n",
        "    float magnitude2(void){ return r*r+i*i;}\n",
        "    cuComplex operator*(const cuComplex &a) { return cuComplex(r*a.r-i*a.i, i*a.r+r*a.i);}\n",
        "    cuComplex operator+(const cuComplex &a) { return cuComplex(r+a.r, i+a.i);}\n",
        "};\n",
        "\n",
        "int mandelbrot(int x, int y){\n",
        "    const float scale = 1.5;\n",
        "    float jx = scale * (float)(DIM/2-x) / (DIM/2);\n",
        "    float jy = scale * (float)(DIM/2-y) / (DIM/2);\n",
        "    cuComplex p(jx, jy);\n",
        "    cuComplex a(0, 0);\n",
        "    int i = 0;\n",
        "    for (i = 0; i < 200; i++) {\n",
        "        a = a * a + p;\n",
        "        if (a.magnitude2()>1000) \n",
        "        return 0;\n",
        "    }\n",
        "    return 1;\n",
        "}\n",
        "\n",
        "void kernel(unsigned char *ptr){\n",
        "    for(int y=0; y<DIM; y++){\n",
        "        for(int x=0; x<DIM; x++){\n",
        "            int offset = x+y*DIM;\n",
        "            int mandelValue = mandelbrot(x,y);\n",
        "            ptr[offset*4+0] = 0;\n",
        "            ptr[offset*4+1] = 255 * mandelValue;\n",
        "            ptr[offset*4+2] = 155 * mandelValue;\n",
        "        }\n",
        "    }\n",
        "}\n",
        "\n",
        "//Zapis fraktala\n",
        "struct DataBlock{\n",
        "    unsigned char *dev_bitmap;\n",
        "};\n",
        "\n",
        "void wypisz_RGB_fraktal(unsigned char *ptr){\n",
        "    for(int y=0; y<DIM; y++){\n",
        "        for(int x=0; x<DIM; x++){\n",
        "            int offset = x+y*DIM;\n",
        "\n",
        "            printf(\"%d,%d,%d \", ptr[offset*4+0], ptr[offset*4+1], ptr[offset*4+2]);\n",
        "        }\n",
        "    }\n",
        "}\n",
        "\n",
        "void save_to_file(unsigned char *ptr){\n",
        "    FILE *fp=fopen(\"Fraktal_CPU.txt\",\"w\");\n",
        "    fprintf(fp, \"%d %d\\n\", DIM, DIM);\n",
        "    for(int y=0; y<DIM; y++){\n",
        "        for(int x=0; x<DIM; x++){\n",
        "            int offset=x+y*DIM;\n",
        "            fprintf(fp, \"%d,%d,%d \", ptr[offset*4+0], ptr[offset*4+1], ptr[offset*4+2]);\n",
        "        }\n",
        "    }\n",
        "    fclose(fp);\n",
        "}\n",
        "\n",
        "int main(void){\n",
        "cudaEvent_t start, stop;\n",
        "cudaEventCreate(&start);\n",
        "cudaEventCreate(&stop);\n",
        "cudaEventRecord( start, 0 );\n",
        "\n",
        "    DataBlock data;\n",
        "    unsigned char *bitmap = (unsigned char*)malloc(DIM*DIM*4*sizeof(unsigned char));\n",
        "    int image_size = DIM*DIM*4;\n",
        "    kernel(bitmap);\n",
        "\n",
        "//stop pomiaru czasu i obliczenie jego trwania\n",
        "cudaEventRecord(stop,0);\n",
        "cudaEventSynchronize(stop);\n",
        "float elapsedTime;\n",
        "cudaEventElapsedTime(&elapsedTime,start,stop);\n",
        "printf(\"Time to generate: %3.1f ms\\n\",elapsedTime);\n",
        "//wyczyszczenie pamieci\n",
        "cudaEventDestroy(start);\n",
        "cudaEventDestroy(stop);\n",
        "\n",
        "    save_to_file(bitmap);\n",
        "}"
      ],
      "metadata": {
        "colab": {
          "base_uri": "https://localhost:8080/"
        },
        "id": "ItUOreRY2NKK",
        "outputId": "550225b8-24a0-46f7-ed5d-956450b33437"
      },
      "execution_count": 43,
      "outputs": [
        {
          "output_type": "stream",
          "name": "stdout",
          "text": [
            "Time to generate: 1322.8 ms\n",
            "\n"
          ]
        }
      ]
    },
    {
      "cell_type": "markdown",
      "source": [
        "###Time to generate: 1340.4 ms - DIM = 1000\n",
        "###Time to generate: 136090.8 ms - DIM = 10000"
      ],
      "metadata": {
        "id": "y-5P0Iwo-LR_"
      }
    },
    {
      "cell_type": "code",
      "source": [
        "import re\n",
        "import numpy as np\n",
        "from PIL import Image\n",
        "from pathlib import Path\n",
        "\n",
        "contents = Path('Fraktal_CPU.txt').read_text()\n",
        "\n",
        "h, w, *pixels = re.findall(r'[0-9]+', contents)\n",
        "\n",
        "na = np.array(pixels, dtype=np.uint8).reshape((int(h),int(w),3))\n",
        "\n",
        "Image.fromarray(na).save(\"wynik_CPU.png\")"
      ],
      "metadata": {
        "id": "N9rpA7q3kjUB"
      },
      "execution_count": 6,
      "outputs": []
    },
    {
      "cell_type": "markdown",
      "source": [
        "![wynik_CPU.png](data:image/png;base64,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)"
      ],
      "metadata": {
        "id": "XTRlTIdE5gIi"
      }
    },
    {
      "cell_type": "markdown",
      "source": [
        "#Wersja GPU"
      ],
      "metadata": {
        "id": "BOPPdrHbVlIu"
      }
    },
    {
      "cell_type": "code",
      "source": [
        "%%cu\n",
        "#include <stdio.h>\n",
        "#define DIM 1000\n",
        "\n",
        "struct cuComplex{\n",
        "    float r;\n",
        "    float i;\n",
        "    \n",
        "    __device__ cuComplex(float a, float b):r(a),i(b){}\n",
        "    __device__ float magnitude2(void){ return r*r+i*i;}\n",
        "    __device__ cuComplex operator*(const cuComplex &a) { return cuComplex(r*a.r-i*a.i, i*a.r+r*a.i);}\n",
        "    __device__ cuComplex operator+(const cuComplex &a) { return cuComplex(r+a.r, i+a.i);}\n",
        "};\n",
        "__device__ int mandelbrot(int x, int y) {\n",
        "    const float scale = 1.5;\n",
        "    float jx=scale*(float)(DIM/2-x)/(DIM/2);\n",
        "    float jy=scale*(float)(DIM/2-y)/(DIM/2);\n",
        "    cuComplex p(jx, jy);\n",
        "    cuComplex a(0, 0);\n",
        "    int i = 0;\n",
        "    for (i = 0; i < 200; i++) {\n",
        "        a = a * a + p;\n",
        "        if (a.magnitude2()>1000) \n",
        "        return 0;\n",
        "    }\n",
        "    return 1;\n",
        "}\n",
        "\n",
        "__global__ void kernel( unsigned char *ptr ) {\n",
        "// Odwzorowanie z blockldx na współrzędne piksela\n",
        "int x = blockIdx.x;\n",
        "int y = blockIdx.y;\n",
        "int offset = x + y * gridDim.x;\n",
        "// Obliczenie wartości dla tego punktu\n",
        "int mandelValue = mandelbrot ( x, y );\n",
        "ptr[offset*4 + 0] = 255 * mandelValue;\n",
        "ptr[offset*4 + 1] = 0;\n",
        "ptr[offset*4 +2] = 255 * mandelValue;\n",
        "}\n",
        "\n",
        "//Zapis fraktala\n",
        "struct DataBlock{\n",
        "    unsigned char *dev_bitmap;\n",
        "};\n",
        "\n",
        "void wypisz_RGB_fraktal(unsigned char *ptr){\n",
        "    for(int y=0; y<DIM; y++){\n",
        "        for(int x=0; x<DIM; x++){\n",
        "            int offset = x+y*DIM;\n",
        "\n",
        "            printf(\"%d, %d, %d \", ptr[offset*4+0], ptr[offset*4+1], ptr[offset*4+2]);\n",
        "        }\n",
        "    }\n",
        "}\n",
        "\n",
        "void save_to_file(unsigned char *ptr){\n",
        "    FILE *fp=fopen(\"Fraktal_GPU.txt\",\"w\");\n",
        "    fprintf(fp, \"%d %d\\n\", DIM, DIM);\n",
        "    for(int y=0; y<DIM; y++){\n",
        "        for(int x=0; x<DIM; x++){\n",
        "            int offset=x+y*DIM;\n",
        "            fprintf(fp, \"%d, %d, %d \", ptr[offset*4+0], ptr[offset*4+1], ptr[offset*4+2]);\n",
        "        }\n",
        "    }\n",
        "    fclose(fp);\n",
        "}\n",
        "\n",
        "int main(void){\n",
        "cudaEvent_t start, stop;\n",
        "cudaEventCreate(&start);\n",
        "cudaEventCreate(&stop);\n",
        "cudaEventRecord( start, 0 );\n",
        "\n",
        "\n",
        "DataBlock data;\n",
        "unsigned char *bitmap = (unsigned char*)malloc(DIM*DIM*4*sizeof(unsigned char));\n",
        "int image_size = DIM*DIM*4;\n",
        "unsigned char *dev_bitmap;\n",
        "cudaMalloc((void**)&dev_bitmap, image_size);\n",
        "data.dev_bitmap=dev_bitmap;\n",
        "dim3 grid(DIM,DIM);\n",
        "kernel<<<grid,1>>>(dev_bitmap);\n",
        "cudaMemcpy(bitmap,dev_bitmap,image_size,cudaMemcpyDeviceToHost);\n",
        "\n",
        "//stop pomiaru czasu i obliczenie jego trwania\n",
        "cudaEventRecord(stop,0);\n",
        "cudaEventSynchronize(stop);\n",
        "float elapsedTime;\n",
        "cudaEventElapsedTime(&elapsedTime,start,stop);\n",
        "printf(\"Time to generate: %3.1f ms\\n\",elapsedTime);\n",
        "//wyczyszczenie pamieci\n",
        "cudaEventDestroy(start);\n",
        "cudaEventDestroy(stop);\n",
        "\n",
        "cudaFree(dev_bitmap);\n",
        "save_to_file (bitmap);\n",
        "}\n"
      ],
      "metadata": {
        "id": "4QnJ4Igt9rBy",
        "colab": {
          "base_uri": "https://localhost:8080/"
        },
        "outputId": "530ac4fb-bb9c-49aa-b930-1d09eb3e3fb1"
      },
      "execution_count": 42,
      "outputs": [
        {
          "output_type": "stream",
          "name": "stdout",
          "text": [
            "Time to generate: 11.3 ms\n",
            "\n"
          ]
        }
      ]
    },
    {
      "cell_type": "markdown",
      "source": [
        "###Time to generate: 11.1 ms - DIM = 1000\n",
        "###Time to generate: 780.8 ms - DIM = 10000"
      ],
      "metadata": {
        "id": "009VKT7V-R0i"
      }
    },
    {
      "cell_type": "code",
      "source": [
        "import re\n",
        "import numpy as np\n",
        "from PIL import Image\n",
        "from pathlib import Path\n",
        "\n",
        "contents = Path('Fraktal_GPU.txt').read_text()\n",
        "\n",
        "h, w, *pixels = re.findall(r'[0-9]+', contents)\n",
        "\n",
        "na = np.array(pixels, dtype=np.uint8).reshape((int(h),int(w),3))\n",
        "\n",
        "Image.fromarray(na).save(\"wynik_GPU.png\")"
      ],
      "metadata": {
        "id": "fPF7vpoNmTkx"
      },
      "execution_count": 6,
      "outputs": []
    },
    {
      "cell_type": "markdown",
      "source": [
        "![wynik_GPU.png](data:image/png;base64,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)"
      ],
      "metadata": {
        "id": "Chg_TV5u5tr3"
      }
    },
    {
      "cell_type": "code",
      "source": [
        "import matplotlib.pyplot as plt\n",
        "import numpy as np\n",
        "def addlabels(x,y):\n",
        "    for i in range(len(x)):\n",
        "        plt.text(i,y[i],y[i])\n",
        "x = np.array([\"1kCPU\", \"1kGPU\", \"10kCPU\", \"10kGPU\"])\n",
        "y = np.array([1340.4 , 11.1, 136090.8, 780.8])\n",
        "z = y\n",
        "plt.bar(x,y,0.8)\n",
        "addlabels(x, y)\n",
        "plt.show()\n",
        "\n",
        "\n"
      ],
      "metadata": {
        "colab": {
          "base_uri": "https://localhost:8080/",
          "height": 265
        },
        "id": "1uq0fgXPJthq",
        "outputId": "bfafab42-7847-468a-c296-409a924ea103"
      },
      "execution_count": 41,
      "outputs": [
        {
          "output_type": "display_data",
          "data": {
            "text/plain": [
              "<Figure size 432x288 with 1 Axes>"
            ],
            "image/png": "[encoded data removed]"
          },
          "metadata": {
            "needs_background": "light"
          }
        }
      ]
    },
    {
      "cell_type": "markdown",
      "source": [
        "#Podsumowanie\n",
        "###Dla DIM = 1000 opcja GPU poradziła sobie 120 razy szybciej, a dla DIM = 10000 CPU przetwarzało program 174 razy dłużej.\n",
        "###Różnice są zauważalne. Niestety w obecnej sytuacji nie byłem w stanie przeprowadzić prób dla sprzętu w wersji CPU."
      ],
      "metadata": {
        "id": "aq8Jqj4DSGlc"
      }
    }
  ]
}